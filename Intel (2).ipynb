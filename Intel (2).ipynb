{
  "nbformat": 4,
  "nbformat_minor": 0,
  "metadata": {
    "colab": {
      "provenance": []
    },
    "kernelspec": {
      "name": "python3",
      "display_name": "Python 3"
    },
    "language_info": {
      "name": "python"
    }
  },
  "cells": [
    {
      "cell_type": "code",
      "execution_count": null,
      "metadata": {
        "id": "7lupl4D2ntyA"
      },
      "outputs": [],
      "source": []
    },
    {
      "cell_type": "code",
      "source": [
        "!pip install openvino\n",
        "!pip install diffusers transformers accelerate gradio"
      ],
      "metadata": {
        "id": "pwa6YftIogEV"
      },
      "execution_count": null,
      "outputs": []
    },
    {
      "cell_type": "code",
      "source": [
        "!pip install opencv-python"
      ],
      "metadata": {
        "id": "QprB-ADFp6D3"
      },
      "execution_count": null,
      "outputs": []
    },
    {
      "cell_type": "code",
      "source": [
        "from diffusers import StableDiffusionPipeline\n",
        "from PIL import Image, ImageDraw, ImageFont\n",
        "import cv2\n",
        "import numpy as np\n",
        "\n",
        "\n",
        "model_id = \"CompVis/stable-diffusion-v1-4\"\n",
        "pipe = StableDiffusionPipeline.from_pretrained(model_id).to(\"cuda\")  # Use \"cuda\" for GPU"
      ],
      "metadata": {
        "id": "bK6uIlwYsPn9"
      },
      "execution_count": null,
      "outputs": []
    },
    {
      "cell_type": "code",
      "source": [
        "def add_dialogue_bubble(image, text):\n",
        "    img = np.array(image)  # Convert PIL image to NumPy\n",
        "    img = cv2.cvtColor(img, cv2.COLOR_RGB2BGR)\n",
        "\n",
        "    # Define speech bubble properties\n",
        "    bubble_w, bubble_h = 200, 100  # Size of bubble\n",
        "    bubble_x, bubble_y = 50, 50  # Position of bubble\n",
        "    tail_x, tail_y = 100, 140  # Tail of bubble\n",
        "\n",
        "    # Draw the speech bubble\n",
        "    cv2.rectangle(img, (bubble_x, bubble_y), (bubble_x + bubble_w, bubble_y + bubble_h), (255, 255, 255), -1)\n",
        "    cv2.rectangle(img, (bubble_x, bubble_y), (bubble_x + bubble_w, bubble_y + bubble_h), (0, 0, 0), 2)\n",
        "\n",
        "    # Draw tail\n",
        "    cv2.line(img, (tail_x, tail_y), (bubble_x + 40, bubble_y + bubble_h), (0, 0, 0), 2)\n",
        "\n",
        "    # Convert back to PIL for adding text\n",
        "    pil_img = Image.fromarray(cv2.cvtColor(img, cv2.COLOR_BGR2RGB))\n",
        "    draw = ImageDraw.Draw(pil_img)\n",
        "\n",
        "    # Load a font\n",
        "    try:\n",
        "        font = ImageFont.truetype(\"arial.ttf\", 18)\n",
        "    except:\n",
        "        font = ImageFont.load_default()\n",
        "\n",
        "    # Add text inside the speech bubble\n",
        "    draw.text((bubble_x + 10, bubble_y + 10), text, fill=\"black\", font=font)\n",
        "\n",
        "    return pil_img"
      ],
      "metadata": {
        "id": "0viQ-xyutKIL"
      },
      "execution_count": null,
      "outputs": []
    },
    {
      "cell_type": "code",
      "source": [
        "def generate_comic(prompt, dialogue):\n",
        "    # Generate image from text\n",
        "    image = pipe(prompt).images[0]\n",
        "\n",
        "    # Add a dialogue bubble with the given text\n",
        "    final_image = add_dialogue_bubble(image, dialogue)\n",
        "\n",
        "    return final_image"
      ],
      "metadata": {
        "id": "IA5unuJJtTGx"
      },
      "execution_count": null,
      "outputs": []
    },
    {
      "cell_type": "code",
      "source": [
        "!pip install gradio\n",
        "import gradio as gr\n",
        "\n",
        "iface = gr.Interface(\n",
        "    fn=generate_comic,\n",
        "    inputs=[\"text\", \"text\"],\n",
        "    outputs=\"image\",\n",
        "    title=\"ComicCrafter AI\",\n",
        "    description=\"Enter a story idea and a dialogue, and get a comic-style image!\"\n",
        ")\n",
        "\n",
        "iface.launch()"
      ],
      "metadata": {
        "id": "bW6RNhvftepv"
      },
      "execution_count": null,
      "outputs": []
    },
    {
      "cell_type": "code",
      "source": [
        "!ps aux | grep python"
      ],
      "metadata": {
        "id": "h8qmyrJj6gEI"
      },
      "execution_count": null,
      "outputs": []
    },
    {
      "cell_type": "code",
      "source": [
        "!nvidia-smi"
      ],
      "metadata": {
        "id": "ld4X_HdoAy3F"
      },
      "execution_count": null,
      "outputs": []
    },
    {
      "cell_type": "markdown",
      "source": [
        "# New Section"
      ],
      "metadata": {
        "id": "m9AvRFvnoWtv"
      }
    }
  ]
}